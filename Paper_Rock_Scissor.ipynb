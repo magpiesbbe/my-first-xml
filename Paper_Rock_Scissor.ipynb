{
  "nbformat": 4,
  "nbformat_minor": 0,
  "metadata": {
    "colab": {
      "provenance": [],
      "authorship_tag": "ABX9TyNJCh6tvFEfYuh1uYmMIqF9",
      "include_colab_link": true
    },
    "kernelspec": {
      "name": "python3",
      "display_name": "Python 3"
    },
    "language_info": {
      "name": "python"
    }
  },
  "cells": [
    {
      "cell_type": "markdown",
      "metadata": {
        "id": "view-in-github",
        "colab_type": "text"
      },
      "source": [
        "<a href=\"https://colab.research.google.com/github/magpiesbbe/my-first-xml/blob/main/Paper_Rock_Scissor.ipynb\" target=\"_parent\"><img src=\"https://colab.research.google.com/assets/colab-badge.svg\" alt=\"Open In Colab\"/></a>"
      ]
    },
    {
      "cell_type": "code",
      "execution_count": null,
      "metadata": {
        "id": "cQ0_YtqsZ9rI"
      },
      "outputs": [],
      "source": []
    },
    {
      "cell_type": "code",
      "source": [
        "import random\n",
        "\n"
      ],
      "metadata": {
        "id": "84Ja5xAxaafu"
      },
      "execution_count": 2,
      "outputs": []
    },
    {
      "cell_type": "code",
      "source": [
        "def game():\n",
        "\n",
        "    com_score = 0\n",
        "    action_score = 0   \n",
        "    possible_action = [\"rock\", \"paper\",\"scissor\"]\n",
        "\n",
        "    while True:\n",
        "        action = input(\"Please select (rock,paper,scissors): \")\n",
        "        \n",
        "        com_action = random.choice(possible_action)\n",
        "        print(f\"You choose {action}, computor choose {com_action}.\")\n",
        "\n",
        "        if action == com_action:\n",
        "            print(f\"It's tie!\")\n",
        "            action_score += 1\n",
        "            com_score += 1\n",
        "\n",
        "        elif action == \"rock\":\n",
        "            if com_action == \"scissors\":\n",
        "                print(\"You Win!\")\n",
        "                action_score += 1\n",
        "            else:\n",
        "                print(\"You Lose.\")\n",
        "                com_score += 1\n",
        "\n",
        "        elif action == \"paper\":\n",
        "            if com_action == \"rock\":\n",
        "                print(\"You Win!\")\n",
        "                action_score += 1\n",
        "            else:\n",
        "                print(\"You Lose.\")\n",
        "                com_score += 1\n",
        "\n",
        "        elif action == \"scissors\":\n",
        "            if com_action == \"paper\":\n",
        "                print(\"You Win!\")\n",
        "                action_score += 1\n",
        "            else:\n",
        "                print(\"You Lose.\")\n",
        "                com_score += 1\n",
        "        print(f\"Computor: {com_score} - You: {action_score}\")\n",
        "\n",
        "\n",
        "        play_again = input(\"play again? (y/n): \")\n",
        "        if play_again != \"y\":\n",
        "            break\n",
        "game()"
      ],
      "metadata": {
        "colab": {
          "base_uri": "https://localhost:8080/"
        },
        "id": "1rWguicYai9E",
        "outputId": "fe445364-455b-4629-ff6f-14df1725218c"
      },
      "execution_count": null,
      "outputs": [
        {
          "name": "stdout",
          "output_type": "stream",
          "text": [
            "Please select (rock,paper,scissors): rock\n",
            "You choose rock, computor choose scissor.\n",
            "You Lose.\n",
            "Computor: 1 - You: 0\n",
            "play again? (y/n): y\n"
          ]
        }
      ]
    },
    {
      "cell_type": "markdown",
      "source": [
        "# New Section"
      ],
      "metadata": {
        "id": "k1_5RdJDaTS4"
      }
    }
  ]
}